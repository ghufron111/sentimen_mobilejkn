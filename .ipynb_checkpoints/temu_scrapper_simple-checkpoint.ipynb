{
 "cells": [
  {
   "cell_type": "code",
   "execution_count": 3,
   "id": "d52f41e6-18fd-4177-aac7-34e2c1c3d3e4",
   "metadata": {},
   "outputs": [
    {
     "name": "stdout",
     "output_type": "stream",
     "text": [
      "Ulasan telah disimpan ke temu_reviews_newest.csv\n"
     ]
    }
   ],
   "source": [
    "import csv\n",
    "from google_play_scraper import reviews, Sort\n",
    "\n",
    "# ID aplikasi dari Google Play Store\n",
    "app_id = 'com.einnovation.temu'\n",
    "\n",
    "# Mengambil ulasan\n",
    "result, continuation_token = reviews(\n",
    "    app_id,\n",
    "    lang='id',  # Bahasa Indonesia\n",
    "    country='id',  # Negara Indonesia\n",
    "    sort=Sort.NEWEST,  # Sortir berdasarkan ulasan terbaru\n",
    "    count=1000  # Jumlah ulasan yang ingin diambil\n",
    ")\n",
    "\n",
    "# Membuat atau membuka file CSV untuk menyimpan ulasan\n",
    "with open('temu_reviews_newest.csv', mode='w', newline='', encoding='utf-8') as file:\n",
    "    writer = csv.writer(file)\n",
    "    # Menulis header CSV\n",
    "    writer.writerow(['User', 'Rating', 'Review', 'Date'])\n",
    "\n",
    "    # Menyimpan ulasan ke file CSV\n",
    "    for review in result:\n",
    "        writer.writerow([review['userName'], review['score'], review['content'], review['at']])\n",
    "\n",
    "print(\"Ulasan telah disimpan ke temu_reviews_newest.csv\")\n"
   ]
  },
  {
   "cell_type": "code",
   "execution_count": null,
   "id": "f8d9ab3f-b526-4e4f-b712-eadf560adb4e",
   "metadata": {},
   "outputs": [],
   "source": []
  }
 ],
 "metadata": {
  "kernelspec": {
   "display_name": "Python 3 (ipykernel)",
   "language": "python",
   "name": "python3"
  },
  "language_info": {
   "codemirror_mode": {
    "name": "ipython",
    "version": 3
   },
   "file_extension": ".py",
   "mimetype": "text/x-python",
   "name": "python",
   "nbconvert_exporter": "python",
   "pygments_lexer": "ipython3",
   "version": "3.9.0"
  }
 },
 "nbformat": 4,
 "nbformat_minor": 5
}
