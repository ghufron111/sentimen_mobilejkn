{
 "cells": [
  {
   "cell_type": "code",
   "execution_count": 1,
   "id": "ebc7f60e-c138-4465-a156-20ecd022ae7e",
   "metadata": {},
   "outputs": [],
   "source": [
    "from sklearn.feature_extraction.text import TfidfVectorizer\n",
    "from sklearn.model_selection import train_test_split\n",
    "from sklearn.svm import SVC\n",
    "from sklearn.preprocessing import StandardScaler\n",
    "from sklearn.utils import shuffle\n",
    "from sklearn.metrics import accuracy_score\n",
    "from imblearn.over_sampling import SMOTE\n",
    "from imblearn.under_sampling import RandomUnderSampler\n",
    "from imblearn.combine import SMOTEENN\n",
    "import numpy as np\n",
    "import pandas as pd\n",
    "import re"
   ]
  },
  {
   "cell_type": "code",
   "execution_count": 2,
   "id": "1728b1ed-7ae3-4b34-8732-a8e635aebdbb",
   "metadata": {},
   "outputs": [],
   "source": [
    "# Load dataset\n",
    "data = pd.read_csv('dataset/mobile_jkn.csv')\n",
    "\n",
    "# Preprocessing function to clean text\n",
    "def preprocess_text(text):\n",
    "    text = re.sub(r'\\W', ' ', text)  # Remove special characters\n",
    "    text = re.sub(r'\\d', ' ', text)  # Remove digits\n",
    "    text = text.lower()              # Convert to lowercase\n",
    "    text = re.sub(r'\\s+', ' ', text) # Remove extra spaces\n",
    "    return text\n",
    "\n",
    "# Apply preprocessing to the 'Review' column\n",
    "data['content'] = data['content'].apply(preprocess_text)\n",
    "\n",
    "# Split data into features (X) and target (y)\n",
    "X = data['content']\n",
    "y = data['score']\n",
    "\n",
    "# Train-test split\n",
    "X_train, X_test, y_train, y_test = train_test_split(X, y, test_size=0.2, random_state=42)\n"
   ]
  },
  {
   "cell_type": "code",
   "execution_count": 3,
   "id": "7c255643-1ec5-4027-af8e-21eae06f9c7c",
   "metadata": {},
   "outputs": [
    {
     "name": "stdout",
     "output_type": "stream",
     "text": [
      "Batch 1 trained.\n",
      "Batch 2 trained.\n",
      "Batch 3 trained.\n",
      "Batch 4 trained.\n",
      "Batch 5 trained.\n",
      "Batch 6 trained.\n",
      "Batch 7 trained.\n",
      "Batch 8 trained.\n",
      "SVM Test Accuracy with mini-batch training: 0.8383\n"
     ]
    }
   ],
   "source": [
    "# Limit features in TF-IDF and use sparse matrix to reduce memory usage\n",
    "tfidf = TfidfVectorizer(max_features=2000)\n",
    "X_train_tfidf = tfidf.fit_transform(X_train)\n",
    "X_test_tfidf = tfidf.transform(X_test)\n",
    "\n",
    "# Convert sparse matrix to dense for easier batch handling\n",
    "X_train_tfidf = X_train_tfidf.toarray()\n",
    "X_test_tfidf = X_test_tfidf.toarray()\n",
    "\n",
    "# Define batch size\n",
    "batch_size = 10000\n",
    "\n",
    "# Initialize SVM model with linear kernel\n",
    "svm_model = SVC(kernel='linear')\n",
    "\n",
    "# Shuffle the training data before batch processing\n",
    "X_train_tfidf, y_train = shuffle(X_train_tfidf, y_train, random_state=42)\n",
    "\n",
    "# Mini-batch training\n",
    "for i in range(0, X_train_tfidf.shape[0], batch_size):\n",
    "    X_batch = X_train_tfidf[i:i+batch_size]\n",
    "    y_batch = y_train[i:i+batch_size]\n",
    "    \n",
    "    # Train SVM on the current batch\n",
    "    svm_model.fit(X_batch, y_batch)\n",
    "    print(f\"Batch {i // batch_size + 1} trained.\")\n",
    "\n",
    "# Predict on the test set\n",
    "y_pred = svm_model.predict(X_test_tfidf)\n",
    "\n",
    "# Calculate and print accuracy\n",
    "svm_test_accuracy = accuracy_score(y_test, y_pred)\n",
    "print(f\"SVM Test Accuracy with mini-batch training: {svm_test_accuracy:.4f}\")"
   ]
  },
  {
   "cell_type": "code",
   "execution_count": null,
   "id": "8dc6c7fe-7ba8-4cf4-bf23-23b1b2d729c0",
   "metadata": {},
   "outputs": [],
   "source": []
  }
 ],
 "metadata": {
  "kernelspec": {
   "display_name": "Python 3 (ipykernel)",
   "language": "python",
   "name": "python3"
  },
  "language_info": {
   "codemirror_mode": {
    "name": "ipython",
    "version": 3
   },
   "file_extension": ".py",
   "mimetype": "text/x-python",
   "name": "python",
   "nbconvert_exporter": "python",
   "pygments_lexer": "ipython3",
   "version": "3.9.0"
  }
 },
 "nbformat": 4,
 "nbformat_minor": 5
}
